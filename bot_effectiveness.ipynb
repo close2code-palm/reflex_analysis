{
 "cells": [
  {
   "cell_type": "code",
   "execution_count": 2,
   "id": "8c97eff9",
   "metadata": {},
   "outputs": [],
   "source": [
    "from dataclasses import dataclass\n",
    "from typing import List, Dict, Optional\n",
    "\n",
    "\n",
    "@dataclass\n",
    "class Course:\n",
    "    id: int\n",
    "    naming: str\n",
    "    modules: List[int]\n",
    "\n",
    "    def __str__(self):\n",
    "        return self.naming\n",
    "\n",
    "\n",
    "@dataclass\n",
    "class NetologyStudent:\n",
    "    used_bot: bool\n",
    "    name: str\n",
    "    netology_id: int\n",
    "    courses: List[Course]\n",
    "    marks: Dict[int, List[Optional[int]]]\n",
    "\n",
    "\n",
    "course_qa = Course(2, 'QA', [1, 2, 3])\n",
    "course_design = Course(3, 'Design', [1, 2, 3, 4])\n",
    "student_000 = NetologyStudent(False, 'Venya', 000,\n",
    "                              [course_qa],\n",
    "                              {course_qa.id: [4, 3, None]})\n",
    "\n",
    "student_001 = NetologyStudent(True, 'Zhenya', 1, [course_qa],\n",
    "                              {course_qa.id: [5, 5, 5]})\n",
    "\n",
    "student_002 = NetologyStudent(True, 'Sasha', 2, [course_qa],\n",
    "                              {course_qa.id: [None, None, None]})\n",
    "\n",
    "student_003 = NetologyStudent(True, 'Sasha', 3, [course_design],\n",
    "                              {course_design.id: [4, 4, None]})\n",
    "\n",
    "student_004 = NetologyStudent(False, 'Kolya', 4, [course_design],\n",
    "                              {course_design.id: [4, 3, 5]})\n",
    "\n",
    "from typing import List\n",
    "\n",
    "import numpy as np\n",
    "from matplotlib import pyplot as plt\n",
    "\n",
    "def build_full_course_effect(bot_used: List[NetologyStudent],\n",
    "                             bot_unused: List[NetologyStudent]):\n",
    "    \"\"\"Visualyze effectivensess of bot usage\"\"\"\n",
    "\n",
    "    # todo build bar chart by course\n",
    "    # full list of courses\n",
    "    courses = [course_qa, course_design]\n",
    "    labels = [crs.naming for crs in courses]\n",
    "\n",
    "    def get_mark_for_course_student(student: NetologyStudent, course: Course):\n",
    "        \"\"\"Getting average academic progress indicator\"\"\"\n",
    "        all_marks = []\n",
    "        for v in student.marks[course.id]:\n",
    "            if v:\n",
    "                all_marks.append(v)\n",
    "        if not all_marks:\n",
    "            return\n",
    "        return sum(all_marks) / len(all_marks)\n",
    "\n",
    "\n",
    "\n",
    "    def get_crs_mean_for_category(netology_user, crs):\n",
    "        crs_means = []\n",
    "        for s in netology_user:\n",
    "            try:\n",
    "                user_mean = get_mark_for_course_student(s, crs)\n",
    "                if user_mean is None:\n",
    "                    continue\n",
    "                crs_means.append(user_mean)\n",
    "            except KeyError:\n",
    "                continue\n",
    "        crs_mean = sum(crs_means) / len(crs_means)\n",
    "        return crs_mean\n",
    "\n",
    "    netology_bot_user_crs_means = [get_crs_mean_for_category(bot_used, crs)\n",
    "                                   for crs in courses]\n",
    "    netology_bot_unused_c_m = [get_crs_mean_for_category(bot_unused, crs) for crs in\n",
    "                               courses]\n",
    "    x = np.arange(len(labels))\n",
    "    width = 0.35  # as 2 groups exists, 3 parts for brightness\n",
    "    fig, ax = plt.subplots()\n",
    "    rects1 = ax.bar(x - width / 2, netology_bot_user_crs_means, width, label='С Ботом')\n",
    "    rects2 = ax.bar(x + width/2, netology_bot_unused_c_m, width, label='Без Бота')\n",
    "    ax.set_ylabel('Средние оценки')\n",
    "    ax.set_title('Оценки по направлениям с Ботом и без')\n",
    "    ax.set_xticks(x, labels)\n",
    "    ax.legend()\n",
    "\n",
    "    ax.bar_label(rects1, padding=3)\n",
    "    ax.bar_label(rects2, padding=3)\n",
    "\n",
    "    fig.tight_layout()\n",
    "    # return plt\n",
    "    plt.show()"
   ]
  },
  {
   "cell_type": "code",
   "execution_count": 3,
   "id": "e2915f20",
   "metadata": {},
   "outputs": [
    {
     "data": {
      "image/png": "[encoded data removed]",
      "text/plain": [
       "<Figure size 432x288 with 1 Axes>"
      ]
     },
     "metadata": {
      "needs_background": "light"
     },
     "output_type": "display_data"
    }
   ],
   "source": [
    "bot_users = [student_001, student_002, student_003]\n",
    "unreflected = [student_000, student_004]\n",
    "\n",
    "build_full_course_effect(bot_users, unreflected)"
   ]
  },
  {
   "cell_type": "code",
   "execution_count": null,
   "id": "2c1d38b1",
   "metadata": {},
   "outputs": [],
   "source": []
  }
 ],
 "metadata": {
  "kernelspec": {
   "display_name": "Python 3 (ipykernel)",
   "language": "python",
   "name": "python3"
  },
  "language_info": {
   "codemirror_mode": {
    "name": "ipython",
    "version": 3
   },
   "file_extension": ".py",
   "mimetype": "text/x-python",
   "name": "python",
   "nbconvert_exporter": "python",
   "pygments_lexer": "ipython3",
   "version": "3.10.2"
  }
 },
 "nbformat": 4,
 "nbformat_minor": 5
}
