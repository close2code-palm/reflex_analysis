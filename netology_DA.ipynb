{
 "cells": [
  {
   "cell_type": "code",
   "execution_count": 2,
   "id": "da31dd7b",
   "metadata": {},
   "outputs": [
    {
     "name": "stdout",
     "output_type": "stream",
     "text": [
      "<class 'pandas.core.frame.DataFrame'>\n",
      "RangeIndex: 18768 entries, 0 to 18767\n",
      "Data columns (total 9 columns):\n",
      " #   Column                       Non-Null Count  Dtype  \n",
      "---  ------                       --------------  -----  \n",
      " 0   Пол                          18759 non-null  float64\n",
      " 1   Город                        18671 non-null  object \n",
      " 2   Сфера работы                 18739 non-null  object \n",
      " 3   Должность                    16901 non-null  object \n",
      " 4   Цель обучения                16485 non-null  object \n",
      " 5   Уровень знаний               18482 non-null  float64\n",
      " 6   Условный возраст             18525 non-null  float64\n",
      " 7   Сслыка на лендинг программы  18768 non-null  object \n",
      " 8   Название программы           18768 non-null  object \n",
      "dtypes: float64(3), object(6)\n",
      "memory usage: 1.3+ MB\n"
     ]
    }
   ],
   "source": [
    "import pandas as pd\n",
    "\n",
    "netology_file = 'MoscowHack2022-задача5-Нетология-data.csv'\n",
    "\n",
    "netology_pd_df = pd.read_csv(netology_file)\n",
    "pd.set_option('display.max_columns', 10)\n",
    "netology_pd_df.info()"
   ]
  },
  {
   "cell_type": "code",
   "execution_count": 7,
   "id": "1b415ea1",
   "metadata": {},
   "outputs": [
    {
     "data": {
      "text/plain": [
       "Найти работу по новой профессии                8491\n",
       "Развиваться в текущей профессии                4493\n",
       "Найти новые проекты или попробовать фриланс    1630\n",
       "Люблю учиться и узнавать новое                  753\n",
       "Создать или расширить портфолио                 584\n",
       "Другое                                          375\n",
       "Расширить круг профессиональных контактов       159\n",
       "Name: Цель обучения, dtype: int64"
      ]
     },
     "execution_count": 7,
     "metadata": {},
     "output_type": "execute_result"
    }
   ],
   "source": [
    "netology_pd_df['Цель обучения'].nunique() # 7\n",
    "netology_pd_df['Цель обучения'].value_counts()\n",
    "# следовательно, мы можем соотнести цели по признакам"
   ]
  },
  {
   "cell_type": "code",
   "execution_count": 21,
   "id": "2cfc3826",
   "metadata": {},
   "outputs": [
    {
     "name": "stdout",
     "output_type": "stream",
     "text": [
      "Москва              0.269616\n",
      "Санкт-Петербург     0.105136\n",
      "Екатеринбург        0.019763\n",
      "Новосибирск         0.018853\n",
      "Краснодар           0.013979\n",
      "Москва              0.012265\n",
      "Нижний Новгород     0.012158\n",
      "Санкт-Петербург     0.011301\n",
      "Самара              0.011194\n",
      "Казань              0.010390\n",
      "Пермь               0.009426\n",
      "Воронеж             0.009212\n",
      "Тюмень              0.008409\n",
      "москва              0.008087\n",
      "Челябинск           0.007980\n",
      "Name: Город, dtype: float64\n"
     ]
    }
   ],
   "source": [
    "netology_pd_df['Город'].nunique() # 1906\n",
    "top_cities = netology_pd_df['Город'].value_counts(normalize=True).head(15)\n",
    "print(top_cities)"
   ]
  },
  {
   "cell_type": "code",
   "execution_count": 22,
   "id": "0ac2724f",
   "metadata": {},
   "outputs": [
    {
     "data": {
      "text/plain": [
       "0.5277703390284397"
      ]
     },
     "execution_count": 22,
     "metadata": {},
     "output_type": "execute_result"
    }
   ],
   "source": [
    "sum(top_cities) # Более чем половина аудитории -- из миллионников"
   ]
  },
  {
   "cell_type": "code",
   "execution_count": 25,
   "id": "87337211",
   "metadata": {},
   "outputs": [
    {
     "name": "stdout",
     "output_type": "stream",
     "text": [
      "<class 'pandas.core.frame.DataFrame'>\n",
      "Int64Index: 13645 entries, 0 to 18745\n",
      "Data columns (total 9 columns):\n",
      " #   Column                       Non-Null Count  Dtype  \n",
      "---  ------                       --------------  -----  \n",
      " 0   Пол                          13640 non-null  float64\n",
      " 1   Город                        13568 non-null  object \n",
      " 2   Сфера работы                 13621 non-null  object \n",
      " 3   Должность                    12330 non-null  object \n",
      " 4   Цель обучения                12024 non-null  object \n",
      " 5   Уровень знаний               13435 non-null  float64\n",
      " 6   Условный возраст             13645 non-null  float64\n",
      " 7   Сслыка на лендинг программы  13645 non-null  object \n",
      " 8   Название программы           13645 non-null  object \n",
      "dtypes: float64(3), object(6)\n",
      "memory usage: 1.0+ MB\n"
     ]
    }
   ],
   "source": [
    "# Возрастные группы - целевая аудитория\n",
    "cleaned_ages = netology_pd_df.loc[netology_pd_df['Условный возраст'] >= 14]\n",
    "cleaned_ages.info()"
   ]
  },
  {
   "cell_type": "code",
   "execution_count": 3,
   "id": "49b142bd",
   "metadata": {},
   "outputs": [
    {
     "data": {
      "image/png": "[encoded data removed]",
      "text/plain": [
       "<Figure size 432x288 with 1 Axes>"
      ]
     },
     "metadata": {
      "needs_background": "light"
     },
     "output_type": "display_data"
    }
   ],
   "source": [
    "import numpy as np\n",
    "by_ages = netology_pd_df['Условный возраст'].value_counts()[:1].plot(kind='barh', yticks=np.arange(0,51,5),\n",
    "                                                              xlim=[0, 400]\n",
    "                                                             )\n",
    "# Выборка с равным количеством пользователей по возрасту"
   ]
  },
  {
   "cell_type": "code",
   "execution_count": null,
   "id": "2bdc933e",
   "metadata": {},
   "outputs": [],
   "source": []
  }
 ],
 "metadata": {
  "kernelspec": {
   "display_name": "Python 3 (ipykernel)",
   "language": "python",
   "name": "python3"
  },
  "language_info": {
   "codemirror_mode": {
    "name": "ipython",
    "version": 3
   },
   "file_extension": ".py",
   "mimetype": "text/x-python",
   "name": "python",
   "nbconvert_exporter": "python",
   "pygments_lexer": "ipython3",
   "version": "3.10.2"
  }
 },
 "nbformat": 4,
 "nbformat_minor": 5
}
